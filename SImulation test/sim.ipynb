{
 "cells": [
  {
   "cell_type": "code",
   "execution_count": null,
   "metadata": {},
   "outputs": [],
   "source": [
    "import ikpy.chain\n",
    "import numpy as np\n",
    "import ikpy.utils.plot as plot_utils\n",
    "import matplotlib.pyplot as plt\n",
    "print(\"imported\")\n",
    "\n",
    "my_chain = ikpy.chain.Chain.from_urdf_file(\"poppy_ergo.URDF\")\n"
   ]
  },
  {
   "cell_type": "code",
   "execution_count": null,
   "metadata": {},
   "outputs": [],
   "source": [
    "\n",
    "while True:\n",
    "    x = float(input())\n",
    "    y = float(input())\n",
    "    z = float(input())\n",
    "    target_position = [ x,y,z]\n",
    "    fig, ax = plot_utils.init_3d_figure()\n",
    "    my_chain.plot(my_chain.inverse_kinematics(target_position), ax, target=target_position)\n",
    "    plt.xlim(-0.1, 0.1)\n",
    "    plt.ylim(-0.1, 0.1)"
   ]
  },
  {
   "cell_type": "code",
   "execution_count": null,
   "metadata": {},
   "outputs": [],
   "source": [
    "x = 0.1\n",
    "y= 0\n"
   ]
  },
  {
   "cell_type": "code",
   "execution_count": null,
   "metadata": {},
   "outputs": [],
   "source": [
    "import math\n",
    "\n",
    "x = 0\n",
    "y = 0\n",
    "t = 0\n",
    "\n",
    "while True:\n",
    "    x = math.sin(t)\n",
    "    y = math.cos(t)\n",
    "    t += 0.1\n",
    "    print(f'x: {x}, y: {y}')\n",
    "\n"
   ]
  },
  {
   "cell_type": "code",
   "execution_count": null,
   "metadata": {},
   "outputs": [],
   "source": [
    "t=0\n",
    "while t<10:\n",
    "    x = 0.1*math.sin(t)\n",
    "    y = 0.1*math.cos(t)\n",
    "    z = 0.1*t\n",
    "    target_position = [ x,y,z]\n",
    "    plot(target_position)\n",
    "    t += 0.1\n"
   ]
  },
  {
   "cell_type": "code",
   "execution_count": null,
   "metadata": {},
   "outputs": [],
   "source": [
    "def plot(target_position):\n",
    "    fig, ax = plot_utils.init_3d_figure()\n",
    "    my_chain.plot(my_chain.inverse_kinematics(target_position), ax, target=target_position)\n",
    "    plt.xlim(-0.1, 0.1)\n",
    "    plt.ylim(-0.1, 0.1)"
   ]
  },
  {
   "cell_type": "code",
   "execution_count": null,
   "metadata": {},
   "outputs": [],
   "source": [
    "x  =0\n",
    "y = 0\n",
    "z = 0\n",
    "t = 0\n",
    "p = 1\n"
   ]
  },
  {
   "cell_type": "code",
   "execution_count": null,
   "metadata": {},
   "outputs": [],
   "source": [
    "# Echo server program\n",
    "import socket\n",
    "\n",
    "HOST = ''                 # Symbolic name meaning all available interfaces\n",
    "PORT = 50007              # Arbitrary non-privileged port\n",
    "s = socket.socket(socket.AF_INET, socket.SOCK_STREAM)\n",
    "s.bind((HOST, PORT))\n",
    "s.listen(1)\n",
    "conn, addr = s.accept()\n",
    "print('Connected by', addr)\n",
    "\n",
    "x = 0\n",
    "y = 0\n",
    "z = 0\n",
    "t = 0\n",
    "p = 1\n",
    "\n",
    "while True:\n",
    "    data = conn.recv(1024)\n",
    "    if not data: break\n",
    "    # print(data) # Paging Python!\n",
    "    # do whatever you need to do with the data\n",
    "    message = (data)\n",
    "\n",
    "    # split the message into a list of key-value pairs\n",
    "    pairs = message.decode().split(', ')\n",
    "\n",
    "    # create a dictionary from the list of pairs\n",
    "    data = {pair.split(': ')[0]: pair.split(': ')[1] for pair in pairs}\n",
    "\n",
    "    if abs(float(data.get(\"R_JS_Horizontal\"))) > 10:\n",
    "        # x += float(data.get(\"R_JS_Horizontal\"))*0.01\n",
    "    \n",
    "        # adding smooth movement\n",
    "        if float(data.get(\"R_JS_Horizontal\")) > 0:\n",
    "            x = x + 0.001*(float(data.get(\"R_JS_Horizontal\"))**p) \n",
    "        else:\n",
    "            x = x - 0.001*(-float(data.get(\"R_JS_Horizontal\"))**p) \n",
    "\n",
    "    if abs(float(data.get(\"R_JS_Vertical\"))) > 10:\n",
    "        # y += float(data.get(\"R_JS_Vertical\"))*0.01\n",
    "    \n",
    "        # adding smooth movement\n",
    "        if float(data.get(\"R_JS_Vertical\")) > 0:\n",
    "            y = y + 0.001*(float(data.get(\"R_JS_Vertical\"))**p) \n",
    "        else:\n",
    "            y = y - 0.001*(-float(data.get(\"R_JS_Vertical\"))**p) \n",
    "\n",
    "    if abs(float(data.get(\"L_JS_Vertical\"))) > 10:\n",
    "        # z += float(data.get(\"L_JS_Vertical\"))*0.01\n",
    "    \n",
    "        # adding smooth movement\n",
    "        if float(data.get(\"L_JS_Vertical\")) > 0:\n",
    "            z = z + 0.001*(float(data.get(\"L_JS_Vertical\"))**p) \n",
    "        else:\n",
    "            z = z - 0.001*(-float(data.get(\"L_JS_Vertical\"))**p) \n",
    "\n",
    "    if abs(float(data.get(\"L_JS_Horizontal\"))) > 10:\n",
    "        # x += float(data.get(\"R_JS_Horizontal\"))*0.01\n",
    "    \n",
    "        # adding smooth movement\n",
    "        if float(data.get(\"L_JS_Horizontal\")) > 0:\n",
    "            t = t + 0.001*(float(data.get(\"R_JS_Horizontal\"))**p) \n",
    "        else:\n",
    "            t = t - 0.001*((-float(data.get(\"R_JS_Horizontal\")))**p) \n",
    "\n",
    "    print(f'x: {x}, y: {y}, z: {z}, t: {t}')\n",
    "\n",
    "conn.close()\n",
    "# optionally put a loop here so that you start \n",
    "# listening again after the connection closes"
   ]
  },
  {
   "cell_type": "code",
   "execution_count": null,
   "metadata": {},
   "outputs": [],
   "source": [
    "# standar message of form is b'A: false, B: false, X: false, Y: false, RB: false, LB: false, Start: false, Back: false, R_JS_Horizontal: 0.996094, R_JS_Vertical: -1.011734, L_JS_Horizontal: 0.996094, L_JS_Vertical: -1.011734' \n",
    "# parse this data into a dictionary\n",
    "message = b'A: false, B: false, X: false, Y: false, RB: false, LB: false, Start: false, Back: false, R_JS_Horizontal: 0.996094, R_JS_Vertical: -1.011734, L_JS_Horizontal: 0.996094, L_JS_Vertical: -1.011734'\n",
    "\n",
    "# split the message into a list of key-value pairs\n",
    "pairs = message.decode().split(', ')\n",
    "\n",
    "# create a dictionary from the list of pairs\n",
    "data = {pair.split(': ')[0]: pair.split(': ')[1] for pair in pairs}\n",
    "\n",
    "print(data)\n"
   ]
  },
  {
   "cell_type": "code",
   "execution_count": null,
   "metadata": {},
   "outputs": [],
   "source": []
  }
 ],
 "metadata": {
  "kernelspec": {
   "display_name": ".venv",
   "language": "python",
   "name": "python3"
  },
  "language_info": {
   "codemirror_mode": {
    "name": "ipython",
    "version": 3
   },
   "file_extension": ".py",
   "mimetype": "text/x-python",
   "name": "python",
   "nbconvert_exporter": "python",
   "pygments_lexer": "ipython3",
   "version": "3.11.6"
  }
 },
 "nbformat": 4,
 "nbformat_minor": 2
}
