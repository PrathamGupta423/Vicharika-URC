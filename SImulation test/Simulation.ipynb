{
 "cells": [
  {
   "cell_type": "code",
   "execution_count": null,
   "metadata": {},
   "outputs": [],
   "source": [
    "import ikpy.chain\n",
    "import numpy as np\n",
    "import ikpy.utils.plot as plot_utils"
   ]
  },
  {
   "cell_type": "code",
   "execution_count": null,
   "metadata": {},
   "outputs": [],
   "source": [
    "my_chain = ikpy.chain.Chain.from_urdf_file(\"poppy_ergo.URDF\")"
   ]
  },
  {
   "cell_type": "code",
   "execution_count": null,
   "metadata": {},
   "outputs": [],
   "source": [
    "target_position = [ 0.1, -0.05, 0.1]"
   ]
  },
  {
   "cell_type": "code",
   "execution_count": null,
   "metadata": {},
   "outputs": [],
   "source": [
    "x = float(input())\n",
    "y = float(input())\n",
    "z = float(input())"
   ]
  },
  {
   "cell_type": "code",
   "execution_count": null,
   "metadata": {},
   "outputs": [],
   "source": []
  },
  {
   "cell_type": "markdown",
   "metadata": {},
   "source": []
  },
  {
   "cell_type": "code",
   "execution_count": null,
   "metadata": {},
   "outputs": [],
   "source": [
    "target_position = [ x,y,z]"
   ]
  },
  {
   "cell_type": "code",
   "execution_count": null,
   "metadata": {},
   "outputs": [],
   "source": [
    "target_position"
   ]
  },
  {
   "cell_type": "markdown",
   "metadata": {},
   "source": []
  },
  {
   "cell_type": "code",
   "execution_count": null,
   "metadata": {},
   "outputs": [],
   "source": [
    "print(\"The angles of each joints are : \", my_chain.inverse_kinematics(target_position))"
   ]
  },
  {
   "cell_type": "code",
   "execution_count": null,
   "metadata": {},
   "outputs": [],
   "source": [
    "target_position = [input(\"Enter x: \"), input(\"Enter y: \"), input(\"Enter z: \")]\n",
    "print(\"The angles of each joints are : \", my_chain.inverse_kinematics(target_position))\n",
    "real_frame = my_chain.forward_kinematics(my_chain.inverse_kinematics(target_position))\n",
    "print(\"Computed position vector : %s, original position vector : %s\" % (real_frame[:3, 3], target_position))\n",
    "\n",
    "fig, ax = plot_utils.init_3d_figure()\n",
    "my_chain.plot(my_chain.inverse_kinematics(target_position), ax, target=target_position)\n",
    "plt.xlim(-0.1, 0.1)\n",
    "plt.ylim(-0.1, 0.1)"
   ]
  },
  {
   "cell_type": "code",
   "execution_count": null,
   "metadata": {},
   "outputs": [],
   "source": [
    "import matplotlib.pyplot as plt\n",
    "fig, ax = plot_utils.init_3d_figure()\n",
    "my_chain.plot(my_chain.inverse_kinematics(target_position), ax, target=target_position)\n",
    "plt.xlim(-0.1, 0.1)\n",
    "plt.ylim(-0.1, 0.1)"
   ]
  },
  {
   "cell_type": "code",
   "execution_count": null,
   "metadata": {},
   "outputs": [],
   "source": [
    "while True:\n",
    "    x = float(input())\n",
    "    y = float(input())\n",
    "    z = float(input())\n",
    "    target_position = [ x,y,z]\n",
    "    fig, ax = plot_utils.init_3d_figure()\n",
    "    my_chain.plot(my_chain.inverse_kinematics(target_position), ax, target=target_position)\n",
    "    plt.xlim(-0.1, 0.1)\n",
    "    plt.ylim(-0.1, 0.1)"
   ]
  },
  {
   "cell_type": "code",
   "execution_count": null,
   "metadata": {},
   "outputs": [],
   "source": []
  }
 ],
 "metadata": {
  "kernelspec": {
   "display_name": ".venv",
   "language": "python",
   "name": "python3"
  },
  "language_info": {
   "codemirror_mode": {
    "name": "ipython",
    "version": 3
   },
   "file_extension": ".py",
   "mimetype": "text/x-python",
   "name": "python",
   "nbconvert_exporter": "python",
   "pygments_lexer": "ipython3",
   "version": "3.11.6"
  }
 },
 "nbformat": 4,
 "nbformat_minor": 2
}
